{
  "nbformat": 4,
  "nbformat_minor": 0,
  "metadata": {
    "colab": {
      "name": "forecastIPOScrappingData.ipynb",
      "provenance": []
    },
    "kernelspec": {
      "name": "python3",
      "display_name": "Python 3"
    },
    "language_info": {
      "name": "python"
    }
  },
  "cells": [
    {
      "cell_type": "code",
      "metadata": {
        "id": "QiTcEztOP2RC"
      },
      "source": [
        "import requests\n",
        "from bs4 import BeautifulSoup\n",
        "import csv\n",
        "import pandas as pd"
      ],
      "execution_count": 1,
      "outputs": []
    },
    {
      "cell_type": "code",
      "metadata": {
        "id": "R03_aNqvE7p8"
      },
      "source": [
        "all_urls = [] #scrapped on 24/03/2021\n",
        "for i in range(1,35): \n",
        "  url = 'https://www.moneycontrol.com/mccode/common/ipo_pagination.php?sec=snapshot3&pgn='+str(i)\n",
        "  all_urls.append(url)"
      ],
      "execution_count": 2,
      "outputs": []
    },
    {
      "cell_type": "code",
      "metadata": {
        "id": "cBW02s8EIIw1"
      },
      "source": [
        "ipo_list = []\n",
        "for url in all_urls:\n",
        "  page  = requests.get(url)\n",
        "  src = page.content\n",
        "  soup = BeautifulSoup(src, 'html.parser')\n",
        "  table_data = soup.find_all('div', attrs = {'class' : 'hist_tbl MT5'})\n",
        "  column_names = table_data[0].find('table').find_all('th')\n",
        "  column = []\n",
        "  for column_name in column_names:\n",
        "    column.append(str(column_name.text).strip())\n",
        "  data = table_data[0].find('table').find_all('td')\n",
        "  ipo = []\n",
        "  for row in data:\n",
        "    ipo.append(str(row.text))\n",
        "  for i in range(0, len(ipo), 8):\n",
        "    ipo_details = {}\n",
        "    ipo_details['Equity'] = str(ipo[i+0]).strip()\n",
        "    ipo_details['Issue price'] = ipo[i+1]\n",
        "    ipo_details['Listed Date'] = str(ipo[i+2])\n",
        "    ipo_details['Open'] = ipo[i+3]\n",
        "    #print(ipo[i+4])\n",
        "    ipo_details['Close'] = ipo[i+4]\n",
        "    ipo_details['Listing Gains (%ge)'] = ipo[i+5]\n",
        "    ipo_details['CMP'] = str(ipo[i+6])\n",
        "    ipo_details['Current gains %ge'] = ipo[i+7]\n",
        "    ipo_list.append(ipo_details)"
      ],
      "execution_count": 3,
      "outputs": []
    },
    {
      "cell_type": "code",
      "metadata": {
        "colab": {
          "base_uri": "https://localhost:8080/"
        },
        "id": "3-rKJYF7u1aj",
        "outputId": "ce5b575f-c531-4ae5-a945-8ed9fee7693f"
      },
      "source": [
        "ipo_list[6]"
      ],
      "execution_count": 4,
      "outputs": [
        {
          "output_type": "execute_result",
          "data": {
            "text/plain": [
              "{'CMP': '2,285.90',\n",
              " 'Close': '3118.65',\n",
              " 'Current gains %ge': '53.42',\n",
              " 'Equity': 'Indigo Paints',\n",
              " 'Issue price': '1490.00',\n",
              " 'Listed Date': '2nd Feb',\n",
              " 'Listing Gains (%ge)': '109.31',\n",
              " 'Open': '2607.50'}"
            ]
          },
          "metadata": {
            "tags": []
          },
          "execution_count": 4
        }
      ]
    },
    {
      "cell_type": "code",
      "metadata": {
        "id": "kF-xg-O4OGhy"
      },
      "source": [
        "df = pd.DataFrame()\n",
        "for item in ipo_list:\n",
        "  df = df.append(item, ignore_index=True)"
      ],
      "execution_count": 5,
      "outputs": []
    },
    {
      "cell_type": "code",
      "metadata": {
        "colab": {
          "base_uri": "https://localhost:8080/",
          "height": 406
        },
        "id": "3rEKI7z1OZ33",
        "outputId": "5c7d6f02-04f2-4925-ee41-5cd5f62d463a"
      },
      "source": [
        "df"
      ],
      "execution_count": 6,
      "outputs": [
        {
          "output_type": "execute_result",
          "data": {
            "text/html": [
              "<div>\n",
              "<style scoped>\n",
              "    .dataframe tbody tr th:only-of-type {\n",
              "        vertical-align: middle;\n",
              "    }\n",
              "\n",
              "    .dataframe tbody tr th {\n",
              "        vertical-align: top;\n",
              "    }\n",
              "\n",
              "    .dataframe thead th {\n",
              "        text-align: right;\n",
              "    }\n",
              "</style>\n",
              "<table border=\"1\" class=\"dataframe\">\n",
              "  <thead>\n",
              "    <tr style=\"text-align: right;\">\n",
              "      <th></th>\n",
              "      <th>CMP</th>\n",
              "      <th>Close</th>\n",
              "      <th>Current gains %ge</th>\n",
              "      <th>Equity</th>\n",
              "      <th>Issue price</th>\n",
              "      <th>Listed Date</th>\n",
              "      <th>Listing Gains (%ge)</th>\n",
              "      <th>Open</th>\n",
              "    </tr>\n",
              "  </thead>\n",
              "  <tbody>\n",
              "    <tr>\n",
              "      <th>0</th>\n",
              "      <td>502.60</td>\n",
              "      <td>525.90</td>\n",
              "      <td>-9.44</td>\n",
              "      <td>Anupam Rasayan</td>\n",
              "      <td>555.00</td>\n",
              "      <td>24th Mar</td>\n",
              "      <td>-5.24</td>\n",
              "      <td>534.70</td>\n",
              "    </tr>\n",
              "    <tr>\n",
              "      <th>1</th>\n",
              "      <td>628.00</td>\n",
              "      <td>812.25</td>\n",
              "      <td>0.16</td>\n",
              "      <td>Heranba</td>\n",
              "      <td>627.00</td>\n",
              "      <td>5th Mar</td>\n",
              "      <td>29.55</td>\n",
              "      <td>900.00</td>\n",
              "    </tr>\n",
              "    <tr>\n",
              "      <th>2</th>\n",
              "      <td>128.60</td>\n",
              "      <td>121.40</td>\n",
              "      <td>36.81</td>\n",
              "      <td>Railtel</td>\n",
              "      <td>94.00</td>\n",
              "      <td>26th Feb</td>\n",
              "      <td>29.15</td>\n",
              "      <td>109.00</td>\n",
              "    </tr>\n",
              "    <tr>\n",
              "      <th>3</th>\n",
              "      <td>586.80</td>\n",
              "      <td>666.65</td>\n",
              "      <td>46.70</td>\n",
              "      <td>Nureca</td>\n",
              "      <td>400.00</td>\n",
              "      <td>25th Feb</td>\n",
              "      <td>66.66</td>\n",
              "      <td>634.95</td>\n",
              "    </tr>\n",
              "    <tr>\n",
              "      <th>4</th>\n",
              "      <td>449.30</td>\n",
              "      <td>445.95</td>\n",
              "      <td>16.70</td>\n",
              "      <td>Stove Kraft</td>\n",
              "      <td>385.00</td>\n",
              "      <td>5th Feb</td>\n",
              "      <td>15.83</td>\n",
              "      <td>498.00</td>\n",
              "    </tr>\n",
              "    <tr>\n",
              "      <th>...</th>\n",
              "      <td>...</td>\n",
              "      <td>...</td>\n",
              "      <td>...</td>\n",
              "      <td>...</td>\n",
              "      <td>...</td>\n",
              "      <td>...</td>\n",
              "      <td>...</td>\n",
              "      <td>...</td>\n",
              "    </tr>\n",
              "    <tr>\n",
              "      <th>665</th>\n",
              "      <td>596.00</td>\n",
              "      <td>71.10</td>\n",
              "      <td>694.67</td>\n",
              "      <td>Thangamayil</td>\n",
              "      <td>75.00</td>\n",
              "      <td>19th Feb</td>\n",
              "      <td>-5.2</td>\n",
              "      <td>70.00</td>\n",
              "    </tr>\n",
              "    <tr>\n",
              "      <th>666</th>\n",
              "      <td>2.25</td>\n",
              "      <td>87.85</td>\n",
              "      <td>-97.00</td>\n",
              "      <td>Syncom Health</td>\n",
              "      <td>75.00</td>\n",
              "      <td>15th Feb</td>\n",
              "      <td>17.13</td>\n",
              "      <td>88.00</td>\n",
              "    </tr>\n",
              "    <tr>\n",
              "      <th>667</th>\n",
              "      <td>17.55</td>\n",
              "      <td>146.38</td>\n",
              "      <td>-89.36</td>\n",
              "      <td>Vascon Engineer</td>\n",
              "      <td>165.00</td>\n",
              "      <td>15th Feb</td>\n",
              "      <td>-11.28</td>\n",
              "      <td>155.90</td>\n",
              "    </tr>\n",
              "    <tr>\n",
              "      <th>668</th>\n",
              "      <td>2,849.50</td>\n",
              "      <td>114.50</td>\n",
              "      <td>1865.17</td>\n",
              "      <td>Jubilant Food</td>\n",
              "      <td>145.00</td>\n",
              "      <td>8th Feb</td>\n",
              "      <td>-21.03</td>\n",
              "      <td>160.00</td>\n",
              "    </tr>\n",
              "    <tr>\n",
              "      <th>669</th>\n",
              "      <td>473.75</td>\n",
              "      <td>184.51</td>\n",
              "      <td>187.12</td>\n",
              "      <td>Infinite Comp</td>\n",
              "      <td>165.00</td>\n",
              "      <td>3rd Feb</td>\n",
              "      <td>11.82</td>\n",
              "      <td>178.35</td>\n",
              "    </tr>\n",
              "  </tbody>\n",
              "</table>\n",
              "<p>670 rows × 8 columns</p>\n",
              "</div>"
            ],
            "text/plain": [
              "          CMP   Close Current gains %ge  ... Listed Date Listing Gains (%ge)    Open\n",
              "0      502.60  525.90             -9.44  ...    24th Mar               -5.24  534.70\n",
              "1      628.00  812.25              0.16  ...     5th Mar               29.55  900.00\n",
              "2      128.60  121.40             36.81  ...    26th Feb               29.15  109.00\n",
              "3      586.80  666.65             46.70  ...    25th Feb               66.66  634.95\n",
              "4      449.30  445.95             16.70  ...     5th Feb               15.83  498.00\n",
              "..        ...     ...               ...  ...         ...                 ...     ...\n",
              "665    596.00   71.10            694.67  ...    19th Feb                -5.2   70.00\n",
              "666      2.25   87.85            -97.00  ...    15th Feb               17.13   88.00\n",
              "667     17.55  146.38            -89.36  ...    15th Feb              -11.28  155.90\n",
              "668  2,849.50  114.50           1865.17  ...     8th Feb              -21.03  160.00\n",
              "669    473.75  184.51            187.12  ...     3rd Feb               11.82  178.35\n",
              "\n",
              "[670 rows x 8 columns]"
            ]
          },
          "metadata": {
            "tags": []
          },
          "execution_count": 6
        }
      ]
    },
    {
      "cell_type": "code",
      "metadata": {
        "id": "tWmx1mmrOyce"
      },
      "source": [
        "df['CMP'] = pd.to_numeric(df['CMP'], errors='coerce') #for the values which cant be cnverted to float nan will appear that's why using this and not astype('float')\n",
        "df['Close'] = pd.to_numeric(df['Close'], errors='coerce')\n",
        "df['Current gains %ge'] = pd.to_numeric(df['Current gains %ge'], errors='coerce')\n",
        "df['Issue price'] = pd.to_numeric(df['Issue price'], errors='coerce')\n",
        "df['Listing Gains (%ge)'] = pd.to_numeric(df['Listing Gains (%ge)'], errors='coerce')\n",
        "df['Open'] = pd.to_numeric(df['Open'], errors='coerce')"
      ],
      "execution_count": 7,
      "outputs": []
    },
    {
      "cell_type": "code",
      "metadata": {
        "colab": {
          "base_uri": "https://localhost:8080/"
        },
        "id": "ds8LX6aER2QY",
        "outputId": "6c9ad67a-443c-47ea-abc2-f8cf43cb89e4"
      },
      "source": [
        "df.dtypes"
      ],
      "execution_count": 8,
      "outputs": [
        {
          "output_type": "execute_result",
          "data": {
            "text/plain": [
              "CMP                    float64\n",
              "Close                  float64\n",
              "Current gains %ge      float64\n",
              "Equity                  object\n",
              "Issue price            float64\n",
              "Listed Date             object\n",
              "Listing Gains (%ge)    float64\n",
              "Open                   float64\n",
              "dtype: object"
            ]
          },
          "metadata": {
            "tags": []
          },
          "execution_count": 8
        }
      ]
    },
    {
      "cell_type": "code",
      "metadata": {
        "colab": {
          "base_uri": "https://localhost:8080/",
          "height": 197
        },
        "id": "Md3p0rVdSi14",
        "outputId": "ca750f6e-b67f-49b3-a58f-bb304af398b9"
      },
      "source": [
        "df.head(5)"
      ],
      "execution_count": 9,
      "outputs": [
        {
          "output_type": "execute_result",
          "data": {
            "text/html": [
              "<div>\n",
              "<style scoped>\n",
              "    .dataframe tbody tr th:only-of-type {\n",
              "        vertical-align: middle;\n",
              "    }\n",
              "\n",
              "    .dataframe tbody tr th {\n",
              "        vertical-align: top;\n",
              "    }\n",
              "\n",
              "    .dataframe thead th {\n",
              "        text-align: right;\n",
              "    }\n",
              "</style>\n",
              "<table border=\"1\" class=\"dataframe\">\n",
              "  <thead>\n",
              "    <tr style=\"text-align: right;\">\n",
              "      <th></th>\n",
              "      <th>CMP</th>\n",
              "      <th>Close</th>\n",
              "      <th>Current gains %ge</th>\n",
              "      <th>Equity</th>\n",
              "      <th>Issue price</th>\n",
              "      <th>Listed Date</th>\n",
              "      <th>Listing Gains (%ge)</th>\n",
              "      <th>Open</th>\n",
              "    </tr>\n",
              "  </thead>\n",
              "  <tbody>\n",
              "    <tr>\n",
              "      <th>0</th>\n",
              "      <td>502.6</td>\n",
              "      <td>525.90</td>\n",
              "      <td>-9.44</td>\n",
              "      <td>Anupam Rasayan</td>\n",
              "      <td>555.0</td>\n",
              "      <td>24th Mar</td>\n",
              "      <td>-5.24</td>\n",
              "      <td>534.70</td>\n",
              "    </tr>\n",
              "    <tr>\n",
              "      <th>1</th>\n",
              "      <td>628.0</td>\n",
              "      <td>812.25</td>\n",
              "      <td>0.16</td>\n",
              "      <td>Heranba</td>\n",
              "      <td>627.0</td>\n",
              "      <td>5th Mar</td>\n",
              "      <td>29.55</td>\n",
              "      <td>900.00</td>\n",
              "    </tr>\n",
              "    <tr>\n",
              "      <th>2</th>\n",
              "      <td>128.6</td>\n",
              "      <td>121.40</td>\n",
              "      <td>36.81</td>\n",
              "      <td>Railtel</td>\n",
              "      <td>94.0</td>\n",
              "      <td>26th Feb</td>\n",
              "      <td>29.15</td>\n",
              "      <td>109.00</td>\n",
              "    </tr>\n",
              "    <tr>\n",
              "      <th>3</th>\n",
              "      <td>586.8</td>\n",
              "      <td>666.65</td>\n",
              "      <td>46.70</td>\n",
              "      <td>Nureca</td>\n",
              "      <td>400.0</td>\n",
              "      <td>25th Feb</td>\n",
              "      <td>66.66</td>\n",
              "      <td>634.95</td>\n",
              "    </tr>\n",
              "    <tr>\n",
              "      <th>4</th>\n",
              "      <td>449.3</td>\n",
              "      <td>445.95</td>\n",
              "      <td>16.70</td>\n",
              "      <td>Stove Kraft</td>\n",
              "      <td>385.0</td>\n",
              "      <td>5th Feb</td>\n",
              "      <td>15.83</td>\n",
              "      <td>498.00</td>\n",
              "    </tr>\n",
              "  </tbody>\n",
              "</table>\n",
              "</div>"
            ],
            "text/plain": [
              "     CMP   Close  Current gains %ge  ... Listed Date  Listing Gains (%ge)    Open\n",
              "0  502.6  525.90              -9.44  ...    24th Mar                -5.24  534.70\n",
              "1  628.0  812.25               0.16  ...     5th Mar                29.55  900.00\n",
              "2  128.6  121.40              36.81  ...    26th Feb                29.15  109.00\n",
              "3  586.8  666.65              46.70  ...    25th Feb                66.66  634.95\n",
              "4  449.3  445.95              16.70  ...     5th Feb                15.83  498.00\n",
              "\n",
              "[5 rows x 8 columns]"
            ]
          },
          "metadata": {
            "tags": []
          },
          "execution_count": 9
        }
      ]
    },
    {
      "cell_type": "code",
      "metadata": {
        "id": "OAoKYj-aS0im"
      },
      "source": [
        "column_names = [\"Equity\", \"Issue price\", \"Listed Date\", \"Open\", \"Close\", \"Listing Gains (%ge)\", \"CMP\", \"Current gains %ge\"]\n",
        "df = df.reindex(columns=column_names)"
      ],
      "execution_count": 10,
      "outputs": []
    },
    {
      "cell_type": "code",
      "metadata": {
        "colab": {
          "base_uri": "https://localhost:8080/",
          "height": 197
        },
        "id": "JfktDK2yTocl",
        "outputId": "c51b37dc-c6e1-48ee-aa7a-c9da842e5ec8"
      },
      "source": [
        "df.tail()"
      ],
      "execution_count": 11,
      "outputs": [
        {
          "output_type": "execute_result",
          "data": {
            "text/html": [
              "<div>\n",
              "<style scoped>\n",
              "    .dataframe tbody tr th:only-of-type {\n",
              "        vertical-align: middle;\n",
              "    }\n",
              "\n",
              "    .dataframe tbody tr th {\n",
              "        vertical-align: top;\n",
              "    }\n",
              "\n",
              "    .dataframe thead th {\n",
              "        text-align: right;\n",
              "    }\n",
              "</style>\n",
              "<table border=\"1\" class=\"dataframe\">\n",
              "  <thead>\n",
              "    <tr style=\"text-align: right;\">\n",
              "      <th></th>\n",
              "      <th>Equity</th>\n",
              "      <th>Issue price</th>\n",
              "      <th>Listed Date</th>\n",
              "      <th>Open</th>\n",
              "      <th>Close</th>\n",
              "      <th>Listing Gains (%ge)</th>\n",
              "      <th>CMP</th>\n",
              "      <th>Current gains %ge</th>\n",
              "    </tr>\n",
              "  </thead>\n",
              "  <tbody>\n",
              "    <tr>\n",
              "      <th>665</th>\n",
              "      <td>Thangamayil</td>\n",
              "      <td>75.0</td>\n",
              "      <td>19th Feb</td>\n",
              "      <td>70.00</td>\n",
              "      <td>71.10</td>\n",
              "      <td>-5.20</td>\n",
              "      <td>596.00</td>\n",
              "      <td>694.67</td>\n",
              "    </tr>\n",
              "    <tr>\n",
              "      <th>666</th>\n",
              "      <td>Syncom Health</td>\n",
              "      <td>75.0</td>\n",
              "      <td>15th Feb</td>\n",
              "      <td>88.00</td>\n",
              "      <td>87.85</td>\n",
              "      <td>17.13</td>\n",
              "      <td>2.25</td>\n",
              "      <td>-97.00</td>\n",
              "    </tr>\n",
              "    <tr>\n",
              "      <th>667</th>\n",
              "      <td>Vascon Engineer</td>\n",
              "      <td>165.0</td>\n",
              "      <td>15th Feb</td>\n",
              "      <td>155.90</td>\n",
              "      <td>146.38</td>\n",
              "      <td>-11.28</td>\n",
              "      <td>17.55</td>\n",
              "      <td>-89.36</td>\n",
              "    </tr>\n",
              "    <tr>\n",
              "      <th>668</th>\n",
              "      <td>Jubilant Food</td>\n",
              "      <td>145.0</td>\n",
              "      <td>8th Feb</td>\n",
              "      <td>160.00</td>\n",
              "      <td>114.50</td>\n",
              "      <td>-21.03</td>\n",
              "      <td>NaN</td>\n",
              "      <td>1865.17</td>\n",
              "    </tr>\n",
              "    <tr>\n",
              "      <th>669</th>\n",
              "      <td>Infinite Comp</td>\n",
              "      <td>165.0</td>\n",
              "      <td>3rd Feb</td>\n",
              "      <td>178.35</td>\n",
              "      <td>184.51</td>\n",
              "      <td>11.82</td>\n",
              "      <td>473.75</td>\n",
              "      <td>187.12</td>\n",
              "    </tr>\n",
              "  </tbody>\n",
              "</table>\n",
              "</div>"
            ],
            "text/plain": [
              "              Equity  Issue price  ...     CMP  Current gains %ge\n",
              "665      Thangamayil         75.0  ...  596.00             694.67\n",
              "666    Syncom Health         75.0  ...    2.25             -97.00\n",
              "667  Vascon Engineer        165.0  ...   17.55             -89.36\n",
              "668    Jubilant Food        145.0  ...     NaN            1865.17\n",
              "669    Infinite Comp        165.0  ...  473.75             187.12\n",
              "\n",
              "[5 rows x 8 columns]"
            ]
          },
          "metadata": {
            "tags": []
          },
          "execution_count": 11
        }
      ]
    },
    {
      "cell_type": "code",
      "metadata": {
        "id": "-8y8GKJISvUl"
      },
      "source": [
        "df.to_csv('/content/ipo_data.csv') #saving to csv file"
      ],
      "execution_count": 12,
      "outputs": []
    }
  ]
}